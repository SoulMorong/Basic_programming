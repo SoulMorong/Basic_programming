{
  "nbformat": 4,
  "nbformat_minor": 0,
  "metadata": {
    "colab": {
      "provenance": [],
      "authorship_tag": "ABX9TyOz3/YVWSveV2jgxwjue8OE",
      "include_colab_link": true
    },
    "kernelspec": {
      "name": "python3",
      "display_name": "Python 3"
    },
    "language_info": {
      "name": "python"
    }
  },
  "cells": [
    {
      "cell_type": "markdown",
      "metadata": {
        "id": "view-in-github",
        "colab_type": "text"
      },
      "source": [
        "<a href=\"https://colab.research.google.com/github/SoulMorong/Basic_programming/blob/main/0904.ipynb\" target=\"_parent\"><img src=\"https://colab.research.google.com/assets/colab-badge.svg\" alt=\"Open In Colab\"/></a>"
      ]
    },
    {
      "cell_type": "code",
      "execution_count": null,
      "metadata": {
        "colab": {
          "base_uri": "https://localhost:8080/"
        },
        "id": "b4PYAi26mzVN",
        "outputId": "284ef6bc-8184-4a5d-c263-b94e4ac0d619"
      },
      "outputs": [
        {
          "output_type": "stream",
          "name": "stdout",
          "text": [
            "3.4\n"
          ]
        }
      ],
      "source": [
        "import numpy as np\n",
        "print(np.mean([1,2,5,3,6]))\n"
      ]
    },
    {
      "cell_type": "code",
      "source": [
        "print(np.zeros(6))\n"
      ],
      "metadata": {
        "colab": {
          "base_uri": "https://localhost:8080/"
        },
        "id": "rYkvOPgum618",
        "outputId": "d07646ed-ac18-44c9-ef8b-5cc901d007fc"
      },
      "execution_count": null,
      "outputs": [
        {
          "output_type": "stream",
          "name": "stdout",
          "text": [
            "[0. 0. 0. 0. 0. 0.]\n"
          ]
        }
      ]
    },
    {
      "cell_type": "code",
      "source": [
        "import random\n",
        "print(random.randint(0,100))\n"
      ],
      "metadata": {
        "colab": {
          "base_uri": "https://localhost:8080/"
        },
        "id": "DfPdkpyjnMBL",
        "outputId": "c7dbb29c-e450-484f-b894-e913d1c2a1d3"
      },
      "execution_count": null,
      "outputs": [
        {
          "output_type": "stream",
          "name": "stdout",
          "text": [
            "97\n"
          ]
        }
      ]
    },
    {
      "cell_type": "code",
      "source": [
        "print(\"Hello world!\")"
      ],
      "metadata": {
        "id": "b4LkhZAyqrXV",
        "colab": {
          "base_uri": "https://localhost:8080/"
        },
        "outputId": "77801222-488e-4983-f608-fcca9d98d587"
      },
      "execution_count": null,
      "outputs": [
        {
          "output_type": "stream",
          "name": "stdout",
          "text": [
            "Hello world!\n"
          ]
        }
      ]
    },
    {
      "cell_type": "code",
      "source": [
        "print(\"이규탁\")"
      ],
      "metadata": {
        "colab": {
          "base_uri": "https://localhost:8080/"
        },
        "id": "OGuB4J0TrDlv",
        "outputId": "e7169b86-79e6-42d7-c380-0350f5ac2ad5"
      },
      "execution_count": null,
      "outputs": [
        {
          "output_type": "stream",
          "name": "stdout",
          "text": [
            "이규탁\n"
          ]
        }
      ]
    },
    {
      "cell_type": "code",
      "source": [
        "print(546*1263**2)"
      ],
      "metadata": {
        "colab": {
          "base_uri": "https://localhost:8080/"
        },
        "id": "jS2Y46XYrK1c",
        "outputId": "5b3166b4-aaac-4d3f-af47-d5baabcc336e"
      },
      "execution_count": null,
      "outputs": [
        {
          "output_type": "stream",
          "name": "stdout",
          "text": [
            "870962274\n"
          ]
        }
      ]
    },
    {
      "cell_type": "code",
      "source": [
        "a = 1345\n",
        "b = 13613\n",
        "print(f\"a+b = {a+b}\")\n",
        "print(\"안녕\"*3)\n",
        "\n",
        "print(__name__)"
      ],
      "metadata": {
        "id": "AqD7XD5frYI0",
        "colab": {
          "base_uri": "https://localhost:8080/"
        },
        "outputId": "df41d1cf-6ced-4701-c64b-e2bd573682b2"
      },
      "execution_count": 44,
      "outputs": [
        {
          "output_type": "stream",
          "name": "stdout",
          "text": [
            "a+b = 14958\n",
            "안녕안녕안녕\n",
            "__main__\n"
          ]
        }
      ]
    },
    {
      "cell_type": "markdown",
      "source": [
        "**240904**\n",
        "변수의 조건\n",
        "1. 예약어 불가\n",
        "2. 숫자 시작 불가\n",
        "3. 띄어쓰기 불가\n",
        "4. 변수 = 값 의 형태로 사용"
      ],
      "metadata": {
        "id": "u2I2LdtzrrM8"
      }
    }
  ]
}