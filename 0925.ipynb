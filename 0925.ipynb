{
  "nbformat": 4,
  "nbformat_minor": 0,
  "metadata": {
    "colab": {
      "provenance": [],
      "authorship_tag": "ABX9TyNoSuNKSaMr+l7+p560pE3T",
      "include_colab_link": true
    },
    "kernelspec": {
      "name": "python3",
      "display_name": "Python 3"
    },
    "language_info": {
      "name": "python"
    }
  },
  "cells": [
    {
      "cell_type": "markdown",
      "metadata": {
        "id": "view-in-github",
        "colab_type": "text"
      },
      "source": [
        "<a href=\"https://colab.research.google.com/github/SoulMorong/Basic_programming/blob/main/0925.ipynb\" target=\"_parent\"><img src=\"https://colab.research.google.com/assets/colab-badge.svg\" alt=\"Open In Colab\"/></a>"
      ]
    },
    {
      "cell_type": "code",
      "execution_count": null,
      "metadata": {
        "colab": {
          "base_uri": "https://localhost:8080/"
        },
        "id": "AZII-0-5mFj8",
        "outputId": "f44dcf03-3537-4783-b3e0-67a9003ad7a0"
      },
      "outputs": [
        {
          "output_type": "stream",
          "name": "stdout",
          "text": [
            "앞면 입니다.\n"
          ]
        }
      ],
      "source": [
        "\"\"\"f = int(input(\"화씨온도 : \"))\n",
        "print(f\"섭씨온도 = {(f-32)*5/9}\")\"\"\"\n",
        "\n",
        "#print(\"줄바꿈 연습\\n연습\\n\\t탭키\\t연습\\n어떤 글자를 \\\"강조\\\"하는 효과 1\\n어떤 글자를 \\'강조\\'하는 효과 2\\n\\\\\\\\ 백슬래시 2개 출력\")\n",
        "\"\"\"\n",
        "a = input(\"문자열 1을 입력하세요\")\n",
        "b = input(\"문자열 2를 입력하세요\")\n",
        "length = 0\n",
        "if (len(a) > len(b)):\n",
        "  length = len(a)-len(b)\n",
        "else:\n",
        "  length = len(b)-len(a)\n",
        "print(f\"문자열 간의 길이 차이는 {length} 입니다.\")\"\"\"\n",
        "\"\"\"\n",
        "a = input(\"문자열 입력 : \")\n",
        "b = \"\"\n",
        "for r in range(len(a)-1,0,-1):\n",
        "  print(a[r])\n",
        "\"\"\"\n",
        "import datetime as d\n",
        "\"\"\"print(\"안녕하세요?\")\n",
        "name = input(\"이름이 어떻게 되시나요? : \")\n",
        "print(f\"만나서 반갑습니다, {name}씨.\\n이름의 길이는 다음과 같군요 : {len(name)}\")\n",
        "age = int(input(\"나이가 어떻게 되나요? : \"))\n",
        "print(f\"내년이면 {age+1}이 되시는군요\")\n",
        "print(f\"2050년이면 {age+2050-int(d.datetime.now().year)}\")\n",
        "\"\"\"\n",
        "\n",
        "\"\"\"year = int(input(\"오늘의 연도를 입력하시오 : \"))\n",
        "month = int(input(\"오늘의 월을 입력하시오 : \"))\n",
        "day = int(input(\"오늘의 일을 입력하시오 : \"))\n",
        "\n",
        "print(d.datetime(year=year,month=month,day=day))\"\"\"\n",
        "\"\"\"\n",
        "id = \"ilovepython\"\n",
        "\n",
        "userid = input(\"아이디를 입력하세요 : \")\n",
        "if (userid == id):\n",
        "  print(\"환영합니다\")\n",
        "else:\n",
        "  print(\"아이디를 찾을 수 없습니다.\")\"\"\"\n",
        "\n",
        "import random\n",
        "a = random.choice([\"뒷면\",\"앞면\"])\n",
        "print(f\"동전 던지기 게임을 시작합니다.\\n{a} 입니다.\\n게임이 종료되었습니다.\")"
      ]
    },
    {
      "cell_type": "code",
      "source": [],
      "metadata": {
        "id": "e5-kqCDboNEW"
      },
      "execution_count": null,
      "outputs": []
    },
    {
      "cell_type": "markdown",
      "source": [
        "type\n",
        "\n",
        "str : string (문자열)\n",
        "int = integer (정수형)\n",
        "float = 실수형\n",
        "bool = 불형 (논리형, True/False)\n",
        "\n",
        "\\n = 줄바꿈\n",
        "\\t = tab키\n",
        "\\b = backspace 키\n",
        "\\\", \\\\ 과 같이 특문 값 이스케이프문자 = 특문 그대로 출력하게 해주는 역할\n",
        "\n",
        "str.upper() => 대문자\n",
        "str.lower() => 소문자"
      ],
      "metadata": {
        "id": "AEv-CSFoqLlp"
      }
    },
    {
      "cell_type": "code",
      "source": [],
      "metadata": {
        "id": "TweHRDx0qPNg"
      },
      "execution_count": null,
      "outputs": []
    }
  ]
}