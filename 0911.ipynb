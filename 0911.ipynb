{
  "nbformat": 4,
  "nbformat_minor": 0,
  "metadata": {
    "colab": {
      "provenance": [],
      "authorship_tag": "ABX9TyOqIlEJtXo61JdAJQKPtSxO",
      "include_colab_link": true
    },
    "kernelspec": {
      "name": "python3",
      "display_name": "Python 3"
    },
    "language_info": {
      "name": "python"
    }
  },
  "cells": [
    {
      "cell_type": "markdown",
      "metadata": {
        "id": "view-in-github",
        "colab_type": "text"
      },
      "source": [
        "<a href=\"https://colab.research.google.com/github/SoulMorong/Basic_programming/blob/main/0911.ipynb\" target=\"_parent\"><img src=\"https://colab.research.google.com/assets/colab-badge.svg\" alt=\"Open In Colab\"/></a>"
      ]
    },
    {
      "cell_type": "code",
      "execution_count": null,
      "metadata": {
        "id": "lTbb080igC9o"
      },
      "outputs": [],
      "source": []
    },
    {
      "cell_type": "code",
      "source": [
        "import numpy as np\n",
        "\"\"\"for r in range (0,10,1):\n",
        "  print(\"☆\"*r,end=\" \") #defalut end = \\n\"\"\"\n",
        "try:\n",
        "\n",
        "  \"\"\"  a = str(input(\"이름을 입력하세요 : \"))\n",
        "  b = str(input(\"전화번호를 입력하세요 : \"))\n",
        "  print(f\"\\n이름 : {a}\\n전화번호 : {b}\")\n",
        "  \"\"\"\n",
        "  \"\"\"  name = input(\"## 택배를 보내기 위한 정보를 입력하세요. ##\\n받는 사람 : \")\n",
        "  address = input(\"주소 : \")\n",
        "  weight = (input(\"무게(g) : \"))\n",
        "\n",
        "  if (weight.isdigit() == False):\n",
        "    print(\"무게는 실수로 입력해주세요.\")\n",
        "  else:\n",
        "    print(f\"** 받는 사람 ==> {name}\\n** 주소 ==> {address}\\n** 배송비 ==> {int(weight)*50} 원\")\n",
        "  \"\"\"\n",
        "\n",
        "  \"\"\"place = input(\"경기장은 어디입니까? \")\n",
        "  winner = input(\"이긴팀은 어디입니까? \")\n",
        "  losser = input(\"진팀은 어디입니까? \")\n",
        "  mvp = input(\"MVP는 누구입니까? \")\n",
        "  score = input(\"점수는 몇대몇입니까? \")\n",
        "  print(\"=\"*70)\n",
        "  print(f\"오늘 {place} 에서 야구 경기가 열렸습니다.\\n{winner} 와(과) {losser} 은(는) 치열한 공방전을 펼쳤습니다.\\n{mvp} 이(가) 맹활약을 하였습니다.\\n결국 {winner} 이(가) {losser} 을(를) {score} 로 이겼습니다.\")\n",
        "  print(\"=\"*70)\"\"\"\n",
        "\n",
        "  \"\"\"num1 = float(input(\"숫자 1 ==> \"))\n",
        "  num2 = float(input(\"숫자 2 ==> \"))\n",
        "  print(f\"{num1} + {num2} = {num1+num2}\\n{num1} - {num2} = {num1-num2}\\n{num1} * {num2} = {num1*num2}\\n{num1} / {num2} = {num1/num2}\\n{num1} % {num2} = {num1%num2}\\n{num1} ** {num2} = {num1**num2}\")\"\"\"\n",
        "\n",
        "  \"\"\"lb = int(input(\"파운트 (lb)를 입력하세요 : \"))\n",
        "  print(f\"{lb} lb는 {0.453592*lb} kg입니다.\")\n",
        "  kg = int(input(\"킬로그램 (kg)를 입력하세요 : \"))\n",
        "  print(f\"{kg} kg는 {2.204623*kg} lb입니다.\")\"\"\"\n",
        "\n",
        "  \"\"\"dollar = int(input(\"달러 가격을 입력하세요 : \"))\n",
        "  print(f\"{dollar}달러는 {dollar*1338}원 입니다.\")\"\"\"\n",
        "\n",
        "  \"\"\"cost_list = {\"캔 커피\":{\"buy\" : -500,\"cell\" : 1800},\n",
        "       \"삼각김밥\":{\"buy\" : -900,\"cell\" : 1400},\n",
        "        \"바나나 우유\":{\"buy\" : -800,\"cell\" : 1800},\n",
        "         \"도시락\":{\"buy\" : -3500,\"cell\" : 4000},\n",
        "          \"콜라\":{\"buy\" : -500,\"cell\" : 1500},\n",
        "           \"새우깡\":{\"buy\" : -700,\"cell\" : 2000}}\n",
        "\n",
        "  def get_cost (menu,amount,action):\n",
        "    return int(cost_list[menu][action]*amount)\n",
        "\n",
        "  print(sum([get_cost(\"바나나 우유\",10,\"buy\"),get_cost(\"바나나 우유\",8,\"cell\"),get_cost(\"콜라\",20,\"buy\")]))\n",
        "\"\"\"\n",
        "  #print(round((3*3.5+4.0*2+4.5*1)/6,2))\n",
        "\n",
        "  \"\"\"cost = {\"아메리카노\":2000,\"카페라떼\":3000,\"카푸치노\":3500}\n",
        "  americano = int(input(\"아메리카노 판매 개수 : \"))\n",
        "  cafelatte = int(input(\"카페라떼 판매 개수 : \"))\n",
        "  capuchino = int(input(\"카푸치노 판매 개수 : \"))\n",
        "  print(\"총 매출은\",sum([cost[\"아메리카노\"]*americano,cost[\"카페라떼\"]*cafelatte,cost[\"카푸치노\"]*capuchino]),\"원 입니다.\")\"\"\"\n",
        "\n",
        "  \"\"\"height = float(input(\"키를 입력하세요 : \"))\n",
        "  weight = float(input(\"몸무게를 입력하세요 : \"))\n",
        "  print(f\"BMI는 {weight/(height**2)} 입니다.\")\"\"\"\n",
        "\n",
        "  input_cost = int(input(\"투입한 돈 : \"))\n",
        "  celling_cost = int(input(\"물건값 : \"))\n",
        "  return_cost = input_cost - celling_cost\n",
        "\n",
        "  print(f\"500원 {return_cost // 500}개 , 100원 {round(return_cost % 500 /100)}개\")\n",
        "\n",
        "except Exception as e:\n",
        "  print(e)"
      ],
      "metadata": {
        "colab": {
          "base_uri": "https://localhost:8080/"
        },
        "id": "i7Nu1B3hgufS",
        "outputId": "4dc957bb-a190-4494-d246-f5e1fae63091"
      },
      "execution_count": 78,
      "outputs": [
        {
          "output_type": "stream",
          "name": "stdout",
          "text": [
            "투입한 돈 : 10000\n",
            "물건값 : 5900\n",
            "500원 8개 , 100원 1개\n"
          ]
        }
      ]
    },
    {
      "cell_type": "markdown",
      "source": [
        "연산자 순서\n",
        "[] + ** * +"
      ],
      "metadata": {
        "id": "iF5_Klk2kAIX"
      }
    },
    {
      "cell_type": "code",
      "source": [],
      "metadata": {
        "id": "9cbS25GcOoqI"
      },
      "execution_count": null,
      "outputs": []
    }
  ]
}