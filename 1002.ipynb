{
  "nbformat": 4,
  "nbformat_minor": 0,
  "metadata": {
    "colab": {
      "provenance": [],
      "authorship_tag": "ABX9TyPnsH0OWoi56+GbTbefAVGH",
      "include_colab_link": true
    },
    "kernelspec": {
      "name": "python3",
      "display_name": "Python 3"
    },
    "language_info": {
      "name": "python"
    }
  },
  "cells": [
    {
      "cell_type": "markdown",
      "metadata": {
        "id": "view-in-github",
        "colab_type": "text"
      },
      "source": [
        "<a href=\"https://colab.research.google.com/github/SoulMorong/Basic_programming/blob/main/1002.ipynb\" target=\"_parent\"><img src=\"https://colab.research.google.com/assets/colab-badge.svg\" alt=\"Open In Colab\"/></a>"
      ]
    },
    {
      "cell_type": "code",
      "execution_count": 62,
      "metadata": {
        "colab": {
          "base_uri": "https://localhost:8080/"
        },
        "id": "q2HuhrOMopf5",
        "outputId": "32412723-e032-45fa-cbaa-9ce80822737a"
      },
      "outputs": [
        {
          "output_type": "stream",
          "name": "stdout",
          "text": [
            "87 3 3 3\n"
          ]
        }
      ],
      "source": [
        "import random\n",
        "\"\"\"\n",
        "line = [\"왼쪽\",\"중앙\",\"오른쪽\"]\n",
        "com_choice = random.choice(line)\n",
        "\n",
        "user_choice = input(\"어디를 수비하시겠어요? (왼쪽,중앙,오른쪽) : \")\n",
        "\n",
        "print(com_choice,user_choice)\n",
        "\n",
        "if(com_choice != user_choice):\n",
        "  print(\"수비에 실패했습니다.\")\n",
        "elif (com_choice == user_choice):\n",
        "  print(\"수비에 성공했습니다\")\n",
        "else:\n",
        "  print(\"왼쪽,중앙,오른쪽 중에 입력해주세요.\")\"\"\"\n",
        "\"\"\"\n",
        "sumV = 0\n",
        "for r in range(500,1001):\n",
        "  if(r % 3 == 0):\n",
        "    sumV += r\n",
        "print(sumV)\"\"\"\n",
        "\n",
        "\"\"\"for r in range(1,10):\n",
        "  print(f\"-----------{r}단-----------\")\n",
        "  for i in range (1,10):\n",
        "    print(f\"{r} * {i} = {r*i}\")\n",
        "  print(\"\\n\")\n",
        "\"\"\"\n",
        "\"\"\"\n",
        "while True:\n",
        "  num1 = int(input(\" \"))\n",
        "  num2 = int(input(\" \"))\n",
        "  if (num1 == num2):\n",
        "    break;\n",
        "  else:\n",
        "    print(num1+num2)\"\"\"\n",
        "\"\"\"\n",
        "sumV = 0\n",
        "for r in range(1,101):\n",
        "  if (r%4 != 0):\n",
        "    sumV += r\n",
        "\n",
        "print(sumV)\"\"\"\n",
        "\n",
        "\"\"\"password = \"abc\"\n",
        "correct = False\n",
        "while correct == False:\n",
        "  user_input = input(\"비밀번호를 입력하세요 : \")\n",
        "  if (user_input == password):\n",
        "    print(\"로그인 성공\")\n",
        "    correct = True\"\"\"\n",
        "\n",
        "count = 0\n",
        "while True:\n",
        "  dice1 = random.randint(1,6)\n",
        "  dice2 = random.randint(1,6)\n",
        "  dice3 = random.randint(1,6)\n",
        "  count += 1\n",
        "  if (dice1 == dice2 and dice2 == dice3):\n",
        "    print(count, dice1,dice2,dice3)\n",
        "    break"
      ]
    },
    {
      "cell_type": "markdown",
      "source": [
        "1\n",
        "# 2024.10.2\n",
        "\n",
        "list(range(2,10,2)) => [2,4,6,8]\n",
        "\n",
        "## 시험 30알"
      ],
      "metadata": {
        "id": "RGoLaDBerWqV"
      }
    },
    {
      "cell_type": "code",
      "source": [],
      "metadata": {
        "id": "DlEIXbfpW0Om"
      },
      "execution_count": null,
      "outputs": []
    }
  ]
}